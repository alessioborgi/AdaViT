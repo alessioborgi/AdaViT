{
 "cells": [
  {
   "cell_type": "code",
   "execution_count": 1,
   "id": "963fd7b1",
   "metadata": {
    "execution": {
     "iopub.execute_input": "2023-12-12T12:38:30.358579Z",
     "iopub.status.busy": "2023-12-12T12:38:30.358098Z",
     "iopub.status.idle": "2023-12-12T12:38:39.609737Z",
     "shell.execute_reply": "2023-12-12T12:38:39.607944Z"
    },
    "papermill": {
     "duration": 9.259362,
     "end_time": "2023-12-12T12:38:39.612929",
     "exception": false,
     "start_time": "2023-12-12T12:38:30.353567",
     "status": "completed"
    },
    "tags": []
   },
   "outputs": [],
   "source": [
    "# Importing necessary libraries\n",
    "import torch\n",
    "import torch.nn as nn\n",
    "import torch.optim as optim\n",
    "from torch.utils.data import DataLoader, random_split\n",
    "from torchvision import transforms\n",
    "from torchvision.datasets import ImageFolder\n",
    "from pathlib import Path\n",
    "import pytorch_lightning as pl\n",
    "from typing import Tuple\n",
    "import PIL\n",
    "from PIL import Image\n",
    "from pytorch_lightning.callbacks.progress import TQDMProgressBar\n",
    "import csv\n",
    "from torchmetrics.functional import accuracy\n",
    "import numpy as np\n",
    "import torchvision\n",
    "from torchvision.transforms import ToPILImage\n",
    "import matplotlib.pyplot as plt\n",
    "import numpy as np\n",
    "from torchvision import transforms\n",
    "import cv2"
   ]
  }
 ],
 "metadata": {
  "kaggle": {
   "accelerator": "none",
   "dataSources": [
    {
     "datasetId": 56828,
     "sourceId": 109264,
     "sourceType": "datasetVersion"
    }
   ],
   "dockerImageVersionId": 30615,
   "isGpuEnabled": false,
   "isInternetEnabled": false,
   "language": "python",
   "sourceType": "notebook"
  },
  "kernelspec": {
   "display_name": "Python 3",
   "language": "python",
   "name": "python3"
  },
  "language_info": {
   "codemirror_mode": {
    "name": "ipython",
    "version": 3
   },
   "file_extension": ".py",
   "mimetype": "text/x-python",
   "name": "python",
   "nbconvert_exporter": "python",
   "pygments_lexer": "ipython3",
   "version": "3.10.12"
  },
  "papermill": {
   "default_parameters": {},
   "duration": 15.615692,
   "end_time": "2023-12-12T12:38:42.233899",
   "environment_variables": {},
   "exception": null,
   "input_path": "__notebook__.ipynb",
   "output_path": "__notebook__.ipynb",
   "parameters": {},
   "start_time": "2023-12-12T12:38:26.618207",
   "version": "2.4.0"
  }
 },
 "nbformat": 4,
 "nbformat_minor": 5
}
